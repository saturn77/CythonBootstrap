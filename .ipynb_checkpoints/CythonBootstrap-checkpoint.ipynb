{
 "cells": [
  {
   "cell_type": "markdown",
   "metadata": {
    "slideshow": {
     "slide_type": "slide"
    }
   },
   "source": [
    "Cython -- A Transcompiler Language    \n",
    "====================================\n",
    "\n",
    "## Transform Your Python !!\n",
    "\n",
    "### By James Bonanno, Central Ohio Python Presentation, March 2015\n",
    "\n",
    "There are many cases where you simply want to get speed up an existing Python design, and in particular code in Python to get things working, then optimize (yes, early optimization is the root of all evil, but it's even **more sinister** if you run out of ways to optimize your code.)\n",
    "\n",
    "What is is good for?\n",
    "\n",
    "  - for making Python faster,\n",
    "  - for making Python faster in an easy way\n",
    "  - for wrapping external C and C++ \n",
    "  - making Python accessible to C and C++ (going the other way)\n",
    "  \n",
    "#### This presentation seeks primarily to discuss ways to transform your Python code and use it in a Python project. \n",
    "    "
   ]
  },
  {
   "cell_type": "markdown",
   "metadata": {
    "slideshow": {
     "slide_type": "slide"
    }
   },
   "source": [
    "    \n",
    "### References \n",
    "\n",
    "The new book by Kurt Smith is well written, clear in explanations, and the best overall treatment of Cython out there. An excellent book !! The book by Gorelick and Ozsvald is a good treatment, and it compares different methods of optimizing python including Shedskin, Theano, Numba, etc. \n",
    "\n",
    "1] Kurt W. Smith **Cython, A Guide for Python Programmers**, O'Reilly, January 2015\n",
    "\n",
    "2] Mich Gorelick & Ian Ozsvald  **High Performance Python -- Practical Performant Programming for Humans** O'Reilly September 2014 \n",
    "\n",
    "3] David Beazley and Brian K Jones, **Python Cookbook**, 3rd Edition, Printed May 2013, O'Reilly -- Chapter 15, page 632"
   ]
  },
  {
   "cell_type": "markdown",
   "metadata": {
    "slideshow": {
     "slide_type": "slide"
    }
   },
   "source": [
    "\n",
    "### Why CYTHON?\n",
    "\n",
    "\n",
    "It's more versatile than all the competition and has a manageable syntax. I hihgly recommend Kurt Smith's book on Cython. It's thorough, and if you read chapter 3, you will take in the essence of working with Cython functions. ***\n",
    "\n",
    "Make sure to check out the new, improved documentation for Cython at:\n",
    "\n",
    "http://docs.cython.org/index.html\n",
    "\n",
    "This presentation will focus on using Cython to speed up Python functions, with some attention also given to arrays and numpy. There are more sophisticated treatments of using dynamically allocated memory, such as typically done with C and C++. \n",
    "\n",
    "A good link on memory allocation, where the heap is used with malloc():\n",
    "\n",
    "http://docs.cython.org/src/tutorial/memory_allocation.html?highlight=numpy\n",
    "\n"
   ]
  },
  {
   "cell_type": "markdown",
   "metadata": {
    "slideshow": {
     "slide_type": "slide"
    }
   },
   "source": [
    "## Getting Started:: Cython function types...\n",
    "\n",
    "\n",
    "You must use \"cdef\" when defining a type inside of a function. For example, \n",
    "\n",
    "```python\n",
    "def quad(int k):\n",
    "    cdef int index = 0\n",
    "    while index < k:\n",
    "        return index**2\n",
    "```  \n",
    "\n",
    "People often get confused when using def, cdef, and cpdef.\n",
    "\n",
    "The key factors are\n",
    "\n",
    "  + def is importable into python\n",
    "  + cdef is importable into C, but not python\n",
    "  + cpdef is importable into both "
   ]
  },
  {
   "cell_type": "markdown",
   "metadata": {
    "slideshow": {
     "slide_type": "slide"
    }
   },
   "source": [
    "## Getting Started:: *Cythonizing* a Python function \n",
    "\n",
    "\n",
    "Now, if you were going to put pure cython code into action within your editor, say Wing IDE \n",
    "or PyCharm, you would want to define something like this in a file say for example ** cy_math.pyx **\n",
    "\n",
    "Now, let's start with the familiar Fibonacci series ...\n",
    "    \n",
    "```python    \n",
    "import cython \n",
    "\n",
    "def cy_fib(int n):\n",
    "    \"\"\"Print the Fibonacci series up to n.\"\"\"\n",
    "    cdef int a = 0 \n",
    "    cdef int b = 1\n",
    "    cdef int index = 0 \n",
    "    while b < n:\n",
    "        print (\"%d, %d, \\n\" % (index, b) ) \n",
    "        a, b   = b, a + b\n",
    "        index += 1\n",
    "\n",
    "```        "
   ]
  },
  {
   "cell_type": "markdown",
   "metadata": {
    "slideshow": {
     "slide_type": "slide"
    }
   },
   "source": [
    "## Getting Started:: A Distutils setup.py  ...\n",
    "\n",
    "\n",
    "```python\n",
    "from distutils.core import setup, Extension \n",
    "from Cython.Build import cythonize\n",
    "\n",
    "#=========================================\n",
    "# Setup the extensions\n",
    "#=========================================\n",
    "sources = [ \"cyMath.pyx\", \"helloCython.pyx\",\"cy_math.pyx\", \"bits.pyx\", \"printString.pyx\"]\n",
    "\n",
    "for fileName in sources:\n",
    "    setup(ext_modules=cythonize(str(fileName)))\n",
    "\n",
    "or...\n",
    "\n",
    "map(lambda fileName : setup(ext_modules=cythonize(str(fileName))), sources)\n",
    "```"
   ]
  },
  {
   "cell_type": "code",
   "execution_count": 1,
   "metadata": {
    "collapsed": false,
    "slideshow": {
     "slide_type": "-"
    }
   },
   "outputs": [
    {
     "name": "stdout",
     "output_type": "stream",
     "text": [
      "Overwriting helloCython.pyx\n"
     ]
    }
   ],
   "source": [
    "%%file helloCython.pyx\n",
    "\n",
    "import cython\n",
    "import sys \n",
    "\n",
    "def message():\n",
    "    print(\" Hello World ....\\n\")\n",
    "    print(\" Hello Central Ohio Python User Group ...\\n\")\n",
    "    print(\" The 614 > 650::True\")\n",
    "    print(\" The Python version is %s\" % sys.version)\n",
    "    print(\" The Cython version is %s\" % cython.__version__)\n",
    "    print(\" I hope that you learn something useful . . . .\")\n",
    "    \n",
    "def main():\n",
    "    message()"
   ]
  },
  {
   "cell_type": "code",
   "execution_count": 2,
   "metadata": {
    "collapsed": false,
    "slideshow": {
     "slide_type": "-"
    }
   },
   "outputs": [
    {
     "name": "stdout",
     "output_type": "stream",
     "text": [
      "Overwriting cyMath.pyx\n"
     ]
    }
   ],
   "source": [
    "%%file cyMath.pyx\n",
    "\n",
    "import cython\n",
    "\n",
    "def cy_fib(int n):\n",
    "    \"\"\"Print the Fibonacci series up to n.\"\"\"\n",
    "    cdef int a = 0 \n",
    "    cdef int b = 1\n",
    "    cdef int index = 0 \n",
    "    while b < n:\n",
    "        print (\"%d, %d, \\n\" % (index, b) ) \n",
    "        a, b   = b, a + b\n",
    "        index += 1\n"
   ]
  },
  {
   "cell_type": "code",
   "execution_count": 3,
   "metadata": {
    "collapsed": false,
    "slideshow": {
     "slide_type": "-"
    }
   },
   "outputs": [
    {
     "name": "stdout",
     "output_type": "stream",
     "text": [
      "Overwriting printString.pyx\n"
     ]
    }
   ],
   "source": [
    "%%file printString.pyx\n",
    "\n",
    "import cython\n",
    "\n",
    "def display(char *bytestring):\n",
    "    \"\"\" Print out a bytestring byte by byte. \"\"\"  \n",
    "\n",
    "    cdef char byte \n",
    "    \n",
    "    for byte in bytestring:\n",
    "            print(byte)  "
   ]
  },
  {
   "cell_type": "code",
   "execution_count": 4,
   "metadata": {
    "collapsed": false,
    "slideshow": {
     "slide_type": "-"
    }
   },
   "outputs": [
    {
     "name": "stdout",
     "output_type": "stream",
     "text": [
      "Overwriting bits.pyx\n"
     ]
    }
   ],
   "source": [
    "%%file bits.pyx\n",
    "\n",
    "import cython\n",
    "\n",
    "def cy_reflect(int reg, int bits):\n",
    "    \"\"\" Reverse all the bits in a register. \n",
    "        reg     = input register\n",
    "        r       = output register \n",
    "    \"\"\"\n",
    "    cdef int x\n",
    "    cdef int y\n",
    "    cdef int r \n",
    "    x = 1 << (bits-1)\n",
    "    y = 1 \n",
    "    r = 0\n",
    "    while x:\n",
    "            if reg & x:\n",
    "                r |= y\n",
    "            x = x >> 1\n",
    "            y = y << 1\n",
    "    return r \n",
    "        \n",
    "\n",
    "def reflect(self,s, bits=8):\n",
    "    \"\"\" Take a binary number (byte) and reflect the bits. \"\"\"\n",
    "    x = 1<<(bits-1)\n",
    "    y = 1\n",
    "    r = 0\n",
    "    while x:\n",
    "            if s & x:\n",
    "                    r |= y\n",
    "            x = x >> 1\n",
    "            y = y << 1\n",
    "    return r"
   ]
  },
  {
   "cell_type": "code",
   "execution_count": 5,
   "metadata": {
    "collapsed": false,
    "slideshow": {
     "slide_type": "slide"
    }
   },
   "outputs": [
    {
     "name": "stdout",
     "output_type": "stream",
     "text": [
      "Overwriting setup.py\n"
     ]
    }
   ],
   "source": [
    "%%file setup.py\n",
    "\n",
    "from distutils.core import setup, Extension \n",
    "from Cython.Build import cythonize\n",
    "\n",
    "#=========================================\n",
    "# Setup the extensions\n",
    "#=========================================\n",
    "sources = [ \"cyMath.pyx\", \"helloCython.pyx\",\n",
    "           \"cy_math.pyx\", \"bits.pyx\", \n",
    "           \"printString.pyx\"]\n",
    "\n",
    "#for fileName in sources:\n",
    "#    setup(ext_modules=cythonize(str(fileName)))\n",
    "\n",
    "map(lambda fileName : setup(ext_modules=cythonize(str(fileName))), sources)"
   ]
  },
  {
   "cell_type": "code",
   "execution_count": 6,
   "metadata": {
    "collapsed": false,
    "slideshow": {
     "slide_type": "slide"
    }
   },
   "outputs": [
    {
     "name": "stdout",
     "output_type": "stream",
     "text": [
      "Compiling cyMath.pyx because it changed.\n",
      "Cythonizing cyMath.pyx\n",
      "running build_ext\n",
      "building 'cyMath' extension\n",
      "x86_64-linux-gnu-gcc -pthread -fno-strict-aliasing -DNDEBUG -g -fwrapv -O2 -Wall -Wstrict-prototypes -fPIC -I/usr/include/python2.7 -c cyMath.c -o build/temp.linux-x86_64-2.7/cyMath.o\n",
      "x86_64-linux-gnu-gcc -pthread -shared -Wl,-O1 -Wl,-Bsymbolic-functions -Wl,-Bsymbolic-functions -Wl,-z,relro -fno-strict-aliasing -DNDEBUG -g -fwrapv -O2 -Wall -Wstrict-prototypes -D_FORTIFY_SOURCE=2 -g -fstack-protector --param=ssp-buffer-size=4 -Wformat -Werror=format-security build/temp.linux-x86_64-2.7/cyMath.o -o /home/james/public_sw/CythonBootstrap/cyMath.so\n",
      "Compiling helloCython.pyx because it changed.\n",
      "Cythonizing helloCython.pyx\n",
      "running build_ext\n",
      "building 'helloCython' extension\n",
      "x86_64-linux-gnu-gcc -pthread -fno-strict-aliasing -DNDEBUG -g -fwrapv -O2 -Wall -Wstrict-prototypes -fPIC -I/usr/include/python2.7 -c helloCython.c -o build/temp.linux-x86_64-2.7/helloCython.o\n",
      "x86_64-linux-gnu-gcc -pthread -shared -Wl,-O1 -Wl,-Bsymbolic-functions -Wl,-Bsymbolic-functions -Wl,-z,relro -fno-strict-aliasing -DNDEBUG -g -fwrapv -O2 -Wall -Wstrict-prototypes -D_FORTIFY_SOURCE=2 -g -fstack-protector --param=ssp-buffer-size=4 -Wformat -Werror=format-security build/temp.linux-x86_64-2.7/helloCython.o -o /home/james/public_sw/CythonBootstrap/helloCython.so\n",
      "running build_ext\n",
      "Compiling bits.pyx because it changed.\n",
      "Cythonizing bits.pyx\n",
      "running build_ext\n",
      "building 'bits' extension\n",
      "x86_64-linux-gnu-gcc -pthread -fno-strict-aliasing -DNDEBUG -g -fwrapv -O2 -Wall -Wstrict-prototypes -fPIC -I/usr/include/python2.7 -c bits.c -o build/temp.linux-x86_64-2.7/bits.o\n",
      "x86_64-linux-gnu-gcc -pthread -shared -Wl,-O1 -Wl,-Bsymbolic-functions -Wl,-Bsymbolic-functions -Wl,-z,relro -fno-strict-aliasing -DNDEBUG -g -fwrapv -O2 -Wall -Wstrict-prototypes -D_FORTIFY_SOURCE=2 -g -fstack-protector --param=ssp-buffer-size=4 -Wformat -Werror=format-security build/temp.linux-x86_64-2.7/bits.o -o /home/james/public_sw/CythonBootstrap/bits.so\n",
      "Compiling printString.pyx because it changed.\n",
      "Cythonizing printString.pyx\n",
      "running build_ext\n",
      "building 'printString' extension\n",
      "x86_64-linux-gnu-gcc -pthread -fno-strict-aliasing -DNDEBUG -g -fwrapv -O2 -Wall -Wstrict-prototypes -fPIC -I/usr/include/python2.7 -c printString.c -o build/temp.linux-x86_64-2.7/printString.o\n",
      "x86_64-linux-gnu-gcc -pthread -shared -Wl,-O1 -Wl,-Bsymbolic-functions -Wl,-Bsymbolic-functions -Wl,-z,relro -fno-strict-aliasing -DNDEBUG -g -fwrapv -O2 -Wall -Wstrict-prototypes -D_FORTIFY_SOURCE=2 -g -fstack-protector --param=ssp-buffer-size=4 -Wformat -Werror=format-security build/temp.linux-x86_64-2.7/printString.o -o /home/james/public_sw/CythonBootstrap/printString.so\n"
     ]
    }
   ],
   "source": [
    "!python setup.py build_ext --inplace"
   ]
  },
  {
   "cell_type": "code",
   "execution_count": 7,
   "metadata": {
    "collapsed": false,
    "slideshow": {
     "slide_type": "-"
    }
   },
   "outputs": [
    {
     "name": "stdout",
     "output_type": "stream",
     "text": [
      " Hello World ....\n",
      "\n",
      " Hello Central Ohio Python User Group ...\n",
      "\n",
      " The 614 > 650::True\n",
      " The Python version is 2.7.6 (default, Mar 22 2014, 22:59:56) \n",
      "[GCC 4.8.2]\n",
      " The Cython version is 0.20.1post0\n",
      " I hope that you learn something useful . . . .\n"
     ]
    }
   ],
   "source": [
    "import helloCython\n",
    "helloCython.message()\n"
   ]
  },
  {
   "cell_type": "code",
   "execution_count": 8,
   "metadata": {
    "collapsed": false,
    "slideshow": {
     "slide_type": "-"
    }
   },
   "outputs": [
    {
     "name": "stdout",
     "output_type": "stream",
     "text": [
      "0, 1, \n",
      "\n",
      "1, 1, \n",
      "\n",
      "2, 2, \n",
      "\n",
      "3, 3, \n",
      "\n",
      "4, 5, \n",
      "\n",
      "5, 8, \n",
      "\n",
      "6, 13, \n",
      "\n",
      "7, 21, \n",
      "\n",
      "8, 34, \n",
      "\n",
      "9, 55, \n",
      "\n",
      "10, 89, \n",
      "\n"
     ]
    }
   ],
   "source": [
    "import cyMath\n",
    "cyMath.cy_fib(100)"
   ]
  },
  {
   "cell_type": "code",
   "execution_count": 9,
   "metadata": {
    "collapsed": false,
    "slideshow": {
     "slide_type": "-"
    }
   },
   "outputs": [
    {
     "data": {
      "text/plain": [
       "['0x80', '0x40', '0x20', '0x10']"
      ]
     },
     "execution_count": 9,
     "metadata": {},
     "output_type": "execute_result"
    }
   ],
   "source": [
    "import bits\n",
    "from bits import cy_reflect\n",
    "hexlist = [int(0x01),int(0x02),int(0x04),int(0x08)]\n",
    "[hex(cy_reflect(item,8)) for item in hexlist]"
   ]
  },
  {
   "cell_type": "code",
   "execution_count": 10,
   "metadata": {
    "collapsed": false,
    "slideshow": {
     "slide_type": "-"
    }
   },
   "outputs": [
    {
     "name": "stdout",
     "output_type": "stream",
     "text": [
      "49\n",
      "50\n",
      "51\n"
     ]
    }
   ],
   "source": [
    "import printString\n",
    "printString.display('123')"
   ]
  },
  {
   "cell_type": "code",
   "execution_count": 11,
   "metadata": {
    "collapsed": false
   },
   "outputs": [
    {
     "data": {
      "text/plain": [
       "[49, 50, 51]"
      ]
     },
     "execution_count": 11,
     "metadata": {},
     "output_type": "execute_result"
    }
   ],
   "source": [
    "# A little list comprehension here ...\n",
    "# A comparative method to the Cython printString function\n",
    "\n",
    "numberList = [1,2,3]\n",
    "[ord(str(value)) for value in numberList]"
   ]
  },
  {
   "cell_type": "markdown",
   "metadata": {
    "slideshow": {
     "slide_type": "slide"
    }
   },
   "source": [
    "### Now let's see the time difference between a cyfib and pyfib ...\n",
    "\n",
    "----------------------"
   ]
  },
  {
   "cell_type": "code",
   "execution_count": 12,
   "metadata": {
    "collapsed": false,
    "slideshow": {
     "slide_type": "slide"
    }
   },
   "outputs": [
    {
     "name": "stdout",
     "output_type": "stream",
     "text": [
      "Overwriting cyFib.pyx\n"
     ]
    }
   ],
   "source": [
    "%%file cyFib.pyx\n",
    "def cyfib(int n):\n",
    "    cdef int a = 0\n",
    "    cdef int b = 1\n",
    "    cdef int index = 0\n",
    "    while b < n:\n",
    "        a, b = b, a+b\n",
    "        index += 1\n",
    "    return b"
   ]
  },
  {
   "cell_type": "markdown",
   "metadata": {},
   "source": [
    "# Introducing runcython !!\n",
    "\n",
    "* Is located on Github\n",
    "* Easy installation == pip install runcython\n",
    "* Russell91 on Github \n",
    "\n",
    "https://github.com/Russell91/runcython\n",
    "\n",
    "There is a runcython and makecython function calls . . . . .\n"
   ]
  },
  {
   "cell_type": "code",
   "execution_count": 13,
   "metadata": {
    "collapsed": true
   },
   "outputs": [],
   "source": [
    "!makecython cyFib.pyx"
   ]
  },
  {
   "cell_type": "code",
   "execution_count": 14,
   "metadata": {
    "collapsed": false,
    "slideshow": {
     "slide_type": "slide"
    }
   },
   "outputs": [],
   "source": [
    "def pyfib(n):\n",
    "    a = 0\n",
    "    b = 1\n",
    "    index = 0\n",
    "    while b < n:\n",
    "        a, b = b, a+b\n",
    "        index += 1\n",
    "    return b"
   ]
  },
  {
   "cell_type": "code",
   "execution_count": 15,
   "metadata": {
    "collapsed": false,
    "slideshow": {
     "slide_type": "slide"
    }
   },
   "outputs": [
    {
     "name": "stdout",
     "output_type": "stream",
     "text": [
      "The slowest run took 5.33 times longer than the fastest. This could mean that an intermediate result is being cached \n",
      "1000000 loops, best of 3: 940 ns per loop\n"
     ]
    }
   ],
   "source": [
    "%timeit pyfib(1000)"
   ]
  },
  {
   "cell_type": "code",
   "execution_count": 16,
   "metadata": {
    "collapsed": false,
    "slideshow": {
     "slide_type": "-"
    }
   },
   "outputs": [
    {
     "name": "stdout",
     "output_type": "stream",
     "text": [
      "10000000 loops, best of 3: 61.8 ns per loop\n"
     ]
    }
   ],
   "source": [
    "import cyFib\n",
    "%timeit cyFib.cyfib(1000)"
   ]
  },
  {
   "cell_type": "markdown",
   "metadata": {
    "slideshow": {
     "slide_type": "-"
    }
   },
   "source": [
    "### NOW THAT IS A CONSIDERABLE SPEEDUP  ... \n",
    "\n",
    "------\n",
    "\n",
    "Fibonnaci function shows a factor of over **1500 %** Improvement\n",
    "\n",
    "Let's take a look at disassembly for some reasons for this ...."
   ]
  },
  {
   "cell_type": "code",
   "execution_count": 17,
   "metadata": {
    "collapsed": false,
    "slideshow": {
     "slide_type": "slide"
    }
   },
   "outputs": [
    {
     "name": "stdout",
     "output_type": "stream",
     "text": [
      "  2           0 LOAD_CONST               1 (0)\n",
      "              3 STORE_FAST               1 (a)\n",
      "\n",
      "  3           6 LOAD_CONST               2 (1)\n",
      "              9 STORE_FAST               2 (b)\n",
      "\n",
      "  4          12 LOAD_CONST               1 (0)\n",
      "             15 STORE_FAST               3 (index)\n",
      "\n",
      "  5          18 SETUP_LOOP              43 (to 64)\n",
      "        >>   21 LOAD_FAST                2 (b)\n",
      "             24 LOAD_FAST                0 (n)\n",
      "             27 COMPARE_OP               0 (<)\n",
      "             30 POP_JUMP_IF_FALSE       63\n",
      "\n",
      "  6          33 LOAD_FAST                2 (b)\n",
      "             36 LOAD_FAST                1 (a)\n",
      "             39 LOAD_FAST                2 (b)\n",
      "             42 BINARY_ADD          \n",
      "             43 ROT_TWO             \n",
      "             44 STORE_FAST               1 (a)\n",
      "             47 STORE_FAST               2 (b)\n",
      "\n",
      "  7          50 LOAD_FAST                3 (index)\n",
      "             53 LOAD_CONST               2 (1)\n",
      "             56 INPLACE_ADD         \n",
      "             57 STORE_FAST               3 (index)\n",
      "             60 JUMP_ABSOLUTE           21\n",
      "        >>   63 POP_BLOCK           \n",
      "\n",
      "  8     >>   64 LOAD_FAST                2 (b)\n",
      "             67 RETURN_VALUE        \n"
     ]
    }
   ],
   "source": [
    "import dis \n",
    "dis.dis(pyfib)"
   ]
  },
  {
   "cell_type": "code",
   "execution_count": 18,
   "metadata": {
    "collapsed": false,
    "slideshow": {
     "slide_type": "slide"
    }
   },
   "outputs": [
    {
     "name": "stdout",
     "output_type": "stream",
     "text": [
      "         3 function calls in 0.000 seconds\n",
      "\n",
      "   Ordered by: standard name\n",
      "\n",
      "   ncalls  tottime  percall  cumtime  percall filename:lineno(function)\n",
      "        1    0.000    0.000    0.000    0.000 <ipython-input-14-58766c9dec61>:1(pyfib)\n",
      "        1    0.000    0.000    0.000    0.000 <string>:1(<module>)\n",
      "        1    0.000    0.000    0.000    0.000 {method 'disable' of '_lsprof.Profiler' objects}\n",
      "\n",
      "\n"
     ]
    }
   ],
   "source": [
    "import cProfile\n",
    "cProfile.run('pyfib(1000)')"
   ]
  },
  {
   "cell_type": "markdown",
   "metadata": {
    "slideshow": {
     "slide_type": "slide"
    }
   },
   "source": [
    "### Another Example, with a polynomial this time ...\n",
    "\n",
    "----\n",
    "\n",
    "For now, lets begin with a polynomial function, and compare how to do this in python and cython! ....\n",
    "\n",
    "Now consider a function such as \n",
    "\n",
    "$f(x) = a_0x^n + a_1x^{(n-1)} + a_2x^{(n-2)} ..... a_nx^0$ \n",
    "\n",
    "where in the case below n is selected as 2, and \n",
    "  - $a_0 = 0.1$, \n",
    "  - $a_1=0.5$\n",
    "  - $a_2=0.25$. \n",
    "  \n",
    "The cython function to do this called \"cypoly\" while the python version is called \"pypoly\". Each function is defined with a functional programming techinque of lambda and map, as shown below. "
   ]
  },
  {
   "cell_type": "code",
   "execution_count": 19,
   "metadata": {
    "collapsed": false,
    "slideshow": {
     "slide_type": "slide"
    }
   },
   "outputs": [
    {
     "name": "stdout",
     "output_type": "stream",
     "text": [
      "Overwriting cyPoly.pyx\n"
     ]
    }
   ],
   "source": [
    "%%file cyPoly.pyx\n",
    "def cypoly(int n, int k):\n",
    "    map(lambda x:(1.0*x**2 + 0.5*x + 0.25*x), range(k))"
   ]
  },
  {
   "cell_type": "code",
   "execution_count": 20,
   "metadata": {
    "collapsed": false,
    "slideshow": {
     "slide_type": "-"
    }
   },
   "outputs": [],
   "source": [
    "!makecython cyPoly.pyx"
   ]
  },
  {
   "cell_type": "code",
   "execution_count": 21,
   "metadata": {
    "collapsed": false,
    "slideshow": {
     "slide_type": "-"
    }
   },
   "outputs": [],
   "source": [
    "def pypoly(n,k):\n",
    "    map(lambda x:.1*x**2 + .5*x + 0.25*x, range(k))"
   ]
  },
  {
   "cell_type": "markdown",
   "metadata": {
    "slideshow": {
     "slide_type": "-"
    }
   },
   "source": [
    "Now to compare the two ...."
   ]
  },
  {
   "cell_type": "code",
   "execution_count": 22,
   "metadata": {
    "collapsed": false,
    "slideshow": {
     "slide_type": "-"
    }
   },
   "outputs": [
    {
     "name": "stdout",
     "output_type": "stream",
     "text": [
      "1000 loops, best of 3: 745 µs per loop\n",
      "1000 loops, best of 3: 1.32 ms per loop\n"
     ]
    }
   ],
   "source": [
    "import cyPoly\n",
    "%timeit cyPoly.cypoly(4,5000)\n",
    "%timeit pypoly(4,5000)"
   ]
  },
  {
   "cell_type": "markdown",
   "metadata": {
    "slideshow": {
     "slide_type": "slide"
    }
   },
   "source": [
    "### Now's lets do something graphically, like plot a trig function. Let's also use a float/double type. "
   ]
  },
  {
   "cell_type": "code",
   "execution_count": 23,
   "metadata": {
    "collapsed": false,
    "slideshow": {
     "slide_type": "-"
    }
   },
   "outputs": [
    {
     "name": "stdout",
     "output_type": "stream",
     "text": [
      "Overwriting sineWave.pyx\n"
     ]
    }
   ],
   "source": [
    "%%file sineWave.pyx\n",
    "import cython \n",
    "from libc.math cimport sin\n",
    "\n",
    "def sinewave(double x):\n",
    "    \"\"\" Calculate a sinewave for specified number of cycles, Ncycles, at a given frequency.\"\"\"\n",
    "    return sin(x)\n",
    "    \n",
    "    "
   ]
  },
  {
   "cell_type": "code",
   "execution_count": 24,
   "metadata": {
    "collapsed": true,
    "slideshow": {
     "slide_type": "-"
    }
   },
   "outputs": [],
   "source": [
    "!makecython sineWave.pyx"
   ]
  },
  {
   "cell_type": "code",
   "execution_count": 25,
   "metadata": {
    "collapsed": false
   },
   "outputs": [
    {
     "data": {
      "text/plain": [
       "1.0"
      ]
     },
     "execution_count": 25,
     "metadata": {},
     "output_type": "execute_result"
    }
   ],
   "source": [
    "import sineWave\n",
    "import math\n",
    "angle90 = math.pi/2\n",
    "sineWave.sinewave(angle90)"
   ]
  },
  {
   "cell_type": "markdown",
   "metadata": {
    "slideshow": {
     "slide_type": "slide"
    }
   },
   "source": [
    "### Now let's looking a data that involves arrays, and look at both python and numpy versions as well. \n"
   ]
  },
  {
   "cell_type": "code",
   "execution_count": 29,
   "metadata": {
    "collapsed": false,
    "slideshow": {
     "slide_type": "slide"
    }
   },
   "outputs": [
    {
     "ename": "AttributeError",
     "evalue": "'module' object has no attribute 'plot'",
     "output_type": "error",
     "traceback": [
      "\u001b[1;31m---------------------------------------------------------------------------\u001b[0m",
      "\u001b[1;31mAttributeError\u001b[0m                            Traceback (most recent call last)",
      "\u001b[1;32m<ipython-input-29-1960ee6e6f91>\u001b[0m in \u001b[0;36m<module>\u001b[1;34m()\u001b[0m\n\u001b[0;32m      5\u001b[0m \u001b[1;33m\u001b[0m\u001b[0m\n\u001b[0;32m      6\u001b[0m \u001b[0mx\u001b[0m \u001b[1;33m=\u001b[0m \u001b[0mnp\u001b[0m\u001b[1;33m.\u001b[0m\u001b[0mlinspace\u001b[0m\u001b[1;33m(\u001b[0m\u001b[1;36m0\u001b[0m\u001b[1;33m,\u001b[0m\u001b[1;36m2\u001b[0m\u001b[1;33m*\u001b[0m\u001b[0mnp\u001b[0m\u001b[1;33m.\u001b[0m\u001b[0mpi\u001b[0m\u001b[1;33m,\u001b[0m\u001b[1;36m2000\u001b[0m\u001b[1;33m)\u001b[0m\u001b[1;33m\u001b[0m\u001b[0m\n\u001b[1;32m----> 7\u001b[1;33m \u001b[0mget_ipython\u001b[0m\u001b[1;33m(\u001b[0m\u001b[1;33m)\u001b[0m\u001b[1;33m.\u001b[0m\u001b[0mmagic\u001b[0m\u001b[1;33m(\u001b[0m\u001b[1;34mu\"timeit plt.plot(x,np.sin(x),'r')\"\u001b[0m\u001b[1;33m)\u001b[0m\u001b[1;33m\u001b[0m\u001b[0m\n\u001b[0m\u001b[0;32m      8\u001b[0m \u001b[1;33m\u001b[0m\u001b[0m\n\u001b[0;32m      9\u001b[0m \u001b[1;31m## %timeit plot(x,sineWave.sinewave(x),'r') <== Why is this a problem ??\u001b[0m\u001b[1;33m\u001b[0m\u001b[1;33m\u001b[0m\u001b[0m\n",
      "\u001b[1;32m/home/james/ipython/IPython/core/interactiveshell.pyc\u001b[0m in \u001b[0;36mmagic\u001b[1;34m(self, arg_s)\u001b[0m\n\u001b[0;32m   2306\u001b[0m         \u001b[0mmagic_name\u001b[0m\u001b[1;33m,\u001b[0m \u001b[0m_\u001b[0m\u001b[1;33m,\u001b[0m \u001b[0mmagic_arg_s\u001b[0m \u001b[1;33m=\u001b[0m \u001b[0marg_s\u001b[0m\u001b[1;33m.\u001b[0m\u001b[0mpartition\u001b[0m\u001b[1;33m(\u001b[0m\u001b[1;34m' '\u001b[0m\u001b[1;33m)\u001b[0m\u001b[1;33m\u001b[0m\u001b[0m\n\u001b[0;32m   2307\u001b[0m         \u001b[0mmagic_name\u001b[0m \u001b[1;33m=\u001b[0m \u001b[0mmagic_name\u001b[0m\u001b[1;33m.\u001b[0m\u001b[0mlstrip\u001b[0m\u001b[1;33m(\u001b[0m\u001b[0mprefilter\u001b[0m\u001b[1;33m.\u001b[0m\u001b[0mESC_MAGIC\u001b[0m\u001b[1;33m)\u001b[0m\u001b[1;33m\u001b[0m\u001b[0m\n\u001b[1;32m-> 2308\u001b[1;33m         \u001b[1;32mreturn\u001b[0m \u001b[0mself\u001b[0m\u001b[1;33m.\u001b[0m\u001b[0mrun_line_magic\u001b[0m\u001b[1;33m(\u001b[0m\u001b[0mmagic_name\u001b[0m\u001b[1;33m,\u001b[0m \u001b[0mmagic_arg_s\u001b[0m\u001b[1;33m)\u001b[0m\u001b[1;33m\u001b[0m\u001b[0m\n\u001b[0m\u001b[0;32m   2309\u001b[0m \u001b[1;33m\u001b[0m\u001b[0m\n\u001b[0;32m   2310\u001b[0m     \u001b[1;31m#-------------------------------------------------------------------------\u001b[0m\u001b[1;33m\u001b[0m\u001b[1;33m\u001b[0m\u001b[0m\n",
      "\u001b[1;32m/home/james/ipython/IPython/core/interactiveshell.pyc\u001b[0m in \u001b[0;36mrun_line_magic\u001b[1;34m(self, magic_name, line)\u001b[0m\n\u001b[0;32m   2227\u001b[0m                 \u001b[0mkwargs\u001b[0m\u001b[1;33m[\u001b[0m\u001b[1;34m'local_ns'\u001b[0m\u001b[1;33m]\u001b[0m \u001b[1;33m=\u001b[0m \u001b[0msys\u001b[0m\u001b[1;33m.\u001b[0m\u001b[0m_getframe\u001b[0m\u001b[1;33m(\u001b[0m\u001b[0mstack_depth\u001b[0m\u001b[1;33m)\u001b[0m\u001b[1;33m.\u001b[0m\u001b[0mf_locals\u001b[0m\u001b[1;33m\u001b[0m\u001b[0m\n\u001b[0;32m   2228\u001b[0m             \u001b[1;32mwith\u001b[0m \u001b[0mself\u001b[0m\u001b[1;33m.\u001b[0m\u001b[0mbuiltin_trap\u001b[0m\u001b[1;33m:\u001b[0m\u001b[1;33m\u001b[0m\u001b[0m\n\u001b[1;32m-> 2229\u001b[1;33m                 \u001b[0mresult\u001b[0m \u001b[1;33m=\u001b[0m \u001b[0mfn\u001b[0m\u001b[1;33m(\u001b[0m\u001b[1;33m*\u001b[0m\u001b[0margs\u001b[0m\u001b[1;33m,\u001b[0m\u001b[1;33m**\u001b[0m\u001b[0mkwargs\u001b[0m\u001b[1;33m)\u001b[0m\u001b[1;33m\u001b[0m\u001b[0m\n\u001b[0m\u001b[0;32m   2230\u001b[0m             \u001b[1;32mreturn\u001b[0m \u001b[0mresult\u001b[0m\u001b[1;33m\u001b[0m\u001b[0m\n\u001b[0;32m   2231\u001b[0m \u001b[1;33m\u001b[0m\u001b[0m\n",
      "\u001b[1;32m/home/james/ipython/IPython/core/magics/execution.pyc\u001b[0m in \u001b[0;36mtimeit\u001b[1;34m(self, line, cell)\u001b[0m\n",
      "\u001b[1;32m/home/james/ipython/IPython/core/magic.pyc\u001b[0m in \u001b[0;36m<lambda>\u001b[1;34m(f, *a, **k)\u001b[0m\n\u001b[0;32m    191\u001b[0m     \u001b[1;31m# but it's overkill for just that one bit of state.\u001b[0m\u001b[1;33m\u001b[0m\u001b[1;33m\u001b[0m\u001b[0m\n\u001b[0;32m    192\u001b[0m     \u001b[1;32mdef\u001b[0m \u001b[0mmagic_deco\u001b[0m\u001b[1;33m(\u001b[0m\u001b[0marg\u001b[0m\u001b[1;33m)\u001b[0m\u001b[1;33m:\u001b[0m\u001b[1;33m\u001b[0m\u001b[0m\n\u001b[1;32m--> 193\u001b[1;33m         \u001b[0mcall\u001b[0m \u001b[1;33m=\u001b[0m \u001b[1;32mlambda\u001b[0m \u001b[0mf\u001b[0m\u001b[1;33m,\u001b[0m \u001b[1;33m*\u001b[0m\u001b[0ma\u001b[0m\u001b[1;33m,\u001b[0m \u001b[1;33m**\u001b[0m\u001b[0mk\u001b[0m\u001b[1;33m:\u001b[0m \u001b[0mf\u001b[0m\u001b[1;33m(\u001b[0m\u001b[1;33m*\u001b[0m\u001b[0ma\u001b[0m\u001b[1;33m,\u001b[0m \u001b[1;33m**\u001b[0m\u001b[0mk\u001b[0m\u001b[1;33m)\u001b[0m\u001b[1;33m\u001b[0m\u001b[0m\n\u001b[0m\u001b[0;32m    194\u001b[0m \u001b[1;33m\u001b[0m\u001b[0m\n\u001b[0;32m    195\u001b[0m         \u001b[1;32mif\u001b[0m \u001b[0mcallable\u001b[0m\u001b[1;33m(\u001b[0m\u001b[0marg\u001b[0m\u001b[1;33m)\u001b[0m\u001b[1;33m:\u001b[0m\u001b[1;33m\u001b[0m\u001b[0m\n",
      "\u001b[1;32m/home/james/ipython/IPython/core/magics/execution.pyc\u001b[0m in \u001b[0;36mtimeit\u001b[1;34m(self, line, cell)\u001b[0m\n\u001b[0;32m   1034\u001b[0m             \u001b[0mnumber\u001b[0m \u001b[1;33m=\u001b[0m \u001b[1;36m1\u001b[0m\u001b[1;33m\u001b[0m\u001b[0m\n\u001b[0;32m   1035\u001b[0m             \u001b[1;32mfor\u001b[0m \u001b[0m_\u001b[0m \u001b[1;32min\u001b[0m \u001b[0mrange\u001b[0m\u001b[1;33m(\u001b[0m\u001b[1;36m1\u001b[0m\u001b[1;33m,\u001b[0m \u001b[1;36m10\u001b[0m\u001b[1;33m)\u001b[0m\u001b[1;33m:\u001b[0m\u001b[1;33m\u001b[0m\u001b[0m\n\u001b[1;32m-> 1036\u001b[1;33m                 \u001b[0mtime_number\u001b[0m \u001b[1;33m=\u001b[0m \u001b[0mtimer\u001b[0m\u001b[1;33m.\u001b[0m\u001b[0mtimeit\u001b[0m\u001b[1;33m(\u001b[0m\u001b[0mnumber\u001b[0m\u001b[1;33m)\u001b[0m\u001b[1;33m\u001b[0m\u001b[0m\n\u001b[0m\u001b[0;32m   1037\u001b[0m                 \u001b[0mworst_tuning\u001b[0m \u001b[1;33m=\u001b[0m \u001b[0mmax\u001b[0m\u001b[1;33m(\u001b[0m\u001b[0mworst_tuning\u001b[0m\u001b[1;33m,\u001b[0m \u001b[0mtime_number\u001b[0m \u001b[1;33m/\u001b[0m \u001b[0mnumber\u001b[0m\u001b[1;33m)\u001b[0m\u001b[1;33m\u001b[0m\u001b[0m\n\u001b[0;32m   1038\u001b[0m                 \u001b[1;32mif\u001b[0m \u001b[0mtime_number\u001b[0m \u001b[1;33m>=\u001b[0m \u001b[1;36m0.2\u001b[0m\u001b[1;33m:\u001b[0m\u001b[1;33m\u001b[0m\u001b[0m\n",
      "\u001b[1;32m/home/james/ipython/IPython/core/magics/execution.pyc\u001b[0m in \u001b[0;36mtimeit\u001b[1;34m(self, number)\u001b[0m\n\u001b[0;32m    130\u001b[0m         \u001b[0mgc\u001b[0m\u001b[1;33m.\u001b[0m\u001b[0mdisable\u001b[0m\u001b[1;33m(\u001b[0m\u001b[1;33m)\u001b[0m\u001b[1;33m\u001b[0m\u001b[0m\n\u001b[0;32m    131\u001b[0m         \u001b[1;32mtry\u001b[0m\u001b[1;33m:\u001b[0m\u001b[1;33m\u001b[0m\u001b[0m\n\u001b[1;32m--> 132\u001b[1;33m             \u001b[0mtiming\u001b[0m \u001b[1;33m=\u001b[0m \u001b[0mself\u001b[0m\u001b[1;33m.\u001b[0m\u001b[0minner\u001b[0m\u001b[1;33m(\u001b[0m\u001b[0mit\u001b[0m\u001b[1;33m,\u001b[0m \u001b[0mself\u001b[0m\u001b[1;33m.\u001b[0m\u001b[0mtimer\u001b[0m\u001b[1;33m)\u001b[0m\u001b[1;33m\u001b[0m\u001b[0m\n\u001b[0m\u001b[0;32m    133\u001b[0m         \u001b[1;32mfinally\u001b[0m\u001b[1;33m:\u001b[0m\u001b[1;33m\u001b[0m\u001b[0m\n\u001b[0;32m    134\u001b[0m             \u001b[1;32mif\u001b[0m \u001b[0mgcold\u001b[0m\u001b[1;33m:\u001b[0m\u001b[1;33m\u001b[0m\u001b[0m\n",
      "\u001b[1;32m<magic-timeit>\u001b[0m in \u001b[0;36minner\u001b[1;34m(_it, _timer)\u001b[0m\n",
      "\u001b[1;31mAttributeError\u001b[0m: 'module' object has no attribute 'plot'"
     ]
    }
   ],
   "source": [
    "%matplotlib \n",
    "\n",
    "import matplotlib as plt\n",
    "import numpy as np\n",
    "\n",
    "x = np.linspace(0,2*np.pi,2000)\n",
    "%timeit plt.plot(x,np.sin(x),'r')\n",
    "\n",
    "## %timeit plot(x,sineWave.sinewave(x),'r') <== Why is this a problem ?? \n",
    "\n",
    "xlim(0,6.28)\n",
    "title('Sinewave for Array Data')\n",
    "grid(True)"
   ]
  },
  {
   "cell_type": "code",
   "execution_count": null,
   "metadata": {
    "collapsed": false,
    "slideshow": {
     "slide_type": "slide"
    }
   },
   "outputs": [],
   "source": [
    "%%file myFunc.pyx\n",
    "\n",
    "import cython\n",
    "import numpy as np\n",
    "cimport numpy as np\n",
    "\n",
    "@cython.boundscheck(False)\n",
    "@cython.wraparound(False)\n",
    "def myfunc(np.ndarray[double, ndim=1] A):\n",
    "    return np.sin(A)"
   ]
  },
  {
   "cell_type": "code",
   "execution_count": null,
   "metadata": {
    "collapsed": false,
    "slideshow": {
     "slide_type": "slide"
    }
   },
   "outputs": [],
   "source": [
    "!makecython myFunc.pyx"
   ]
  },
  {
   "cell_type": "code",
   "execution_count": null,
   "metadata": {
    "collapsed": false,
    "slideshow": {
     "slide_type": "slide"
    }
   },
   "outputs": [],
   "source": [
    "%matplotlib inline\n",
    "import matplotlib\n",
    "\n",
    "import myFunc\n",
    "import cython\n",
    "import numpy as np\n",
    "\n",
    "x = np.linspace(0,2*np.pi,2000)\n",
    "y = myFunc.myfunc(x)\n",
    "\n",
    "%timeit plot(x,y,'r')\n",
    "\n",
    "xlim(0,6.28)\n",
    "title('Sinewave for Array Data with Cython')\n",
    "grid(True)"
   ]
  },
  {
   "cell_type": "markdown",
   "metadata": {
    "collapsed": false,
    "slideshow": {
     "slide_type": "slide"
    }
   },
   "source": [
    "# Summary & Conclusions \n",
    "\n",
    "This talk has presented the basics of getting started with Cython and IPython/Jupyter Notebook. There were examples presented on how to compile Cython programs with a setup.py and distuils as well as a nice application, runcython. Basic programs and some programs with arrays were demonstrated.\n",
    "\n",
    "Cython is flexible, and it's flexibility is matched by it's performance.\n",
    "\n",
    "It's realitively easy to use, but it does have some details to watch out for when working with arrays, references, etc.\n",
    "\n",
    "Overall\n",
    "\n",
    " - Cython enables Python code to be transformed easily\n",
    " - The transformed Python code is signficantly faster\n",
    " - Wide support and documentation exists for Cython\n",
    " - Language has evolved and grown over the past few years with widespread support\n",
    " - Usage in Ipython Notebook / Jupyter is now well supported\n",
    " - Can be used on a wide variety of programs, ranging from math to logic.\n",
    " \n",
    "**Transform your Python with Cython !! **\n"
   ]
  }
 ],
 "metadata": {
  "celltoolbar": "Slideshow",
  "kernelspec": {
   "display_name": "Python 2",
   "language": "python",
   "name": "python2"
  },
  "language_info": {
   "codemirror_mode": {
    "name": "ipython",
    "version": 2
   },
   "file_extension": ".py",
   "mimetype": "text/x-python",
   "name": "python",
   "nbconvert_exporter": "python",
   "pygments_lexer": "ipython2",
   "version": "2.7.6"
  }
 },
 "nbformat": 4,
 "nbformat_minor": 0
}
